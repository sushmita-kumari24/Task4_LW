{
 "cells": [
  {
   "cell_type": "markdown",
   "id": "0601bdff",
   "metadata": {},
   "source": [
    "# 🔅 Task 4.2\n",
    "📌 Take 2 image crop some part of both image and swap it. "
   ]
  },
  {
   "cell_type": "code",
   "execution_count": 77,
   "id": "ca8ca595",
   "metadata": {},
   "outputs": [],
   "source": [
    "import cv2\n",
    "import numpy as np"
   ]
  },
  {
   "cell_type": "markdown",
   "id": "432b0135",
   "metadata": {},
   "source": [
    "# Display 1st image"
   ]
  },
  {
   "cell_type": "code",
   "execution_count": 78,
   "id": "9fa32dab",
   "metadata": {},
   "outputs": [],
   "source": [
    "\n",
    "photo1 = cv2.imread(\"bheem.png\")\n",
    "photo1 = cv2.resize(photo1, (400,500))\n",
    "cv2.imshow('bheem', photo1)\n",
    "cv2.waitKey()\n",
    "cv2.destroyAllWindows()"
   ]
  },
  {
   "cell_type": "markdown",
   "id": "a9d821a9",
   "metadata": {},
   "source": [
    "# Crop and display first image"
   ]
  },
  {
   "cell_type": "code",
   "execution_count": 79,
   "id": "376da01e",
   "metadata": {},
   "outputs": [],
   "source": [
    "\n",
    "pc1 = photo1[15:85+94, 115:320]\n",
    "photo1 = cv2.resize(photo1, (400,500))\n",
    "cv2.imshow('bheem', pc1)\n",
    "cv2.waitKey()\n",
    "cv2.destroyAllWindows()"
   ]
  },
  {
   "cell_type": "code",
   "execution_count": 80,
   "id": "dd67ef31",
   "metadata": {},
   "outputs": [
    {
     "data": {
      "text/plain": [
       "(164, 205, 3)"
      ]
     },
     "execution_count": 80,
     "metadata": {},
     "output_type": "execute_result"
    }
   ],
   "source": [
    "pc1.shape"
   ]
  },
  {
   "cell_type": "markdown",
   "id": "47809317",
   "metadata": {},
   "source": [
    "# Display 2nd image"
   ]
  },
  {
   "cell_type": "code",
   "execution_count": 81,
   "id": "25d21c7f",
   "metadata": {},
   "outputs": [],
   "source": [
    "\n",
    "photo2 = cv2.imread(\"chutki.jpg\")\n",
    "photo2 = cv2.resize(photo2, (400,500))\n",
    "cv2.imshow('chutki' , photo2)\n",
    "cv2.waitKey()\n",
    "cv2.destroyAllWindows()"
   ]
  },
  {
   "cell_type": "markdown",
   "id": "a16d5547",
   "metadata": {},
   "source": [
    "# Crop and display 2nd image"
   ]
  },
  {
   "cell_type": "code",
   "execution_count": 82,
   "id": "e740cc05",
   "metadata": {},
   "outputs": [],
   "source": [
    "\n",
    "pc2 = photo2[0:70+94, 100:305]\n",
    "photo2 = cv2.resize(photo2, (400,500))\n",
    "cv2.imshow('chutki' , pc2)\n",
    "cv2.waitKey()\n",
    "cv2.destroyAllWindows()"
   ]
  },
  {
   "cell_type": "code",
   "execution_count": 83,
   "id": "2a0c8578",
   "metadata": {},
   "outputs": [
    {
     "data": {
      "text/plain": [
       "(164, 205, 3)"
      ]
     },
     "execution_count": 83,
     "metadata": {},
     "output_type": "execute_result"
    }
   ],
   "source": [
    "pc2.shape"
   ]
  },
  {
   "cell_type": "markdown",
   "id": "59a30de2",
   "metadata": {},
   "source": [
    "# Swap the crop parts of the images"
   ]
  },
  {
   "cell_type": "code",
   "execution_count": 84,
   "id": "b5b9040f",
   "metadata": {},
   "outputs": [],
   "source": [
    "\n",
    "photo1[15:85+94, 115:320] = pc2\n",
    "photo2[0:70+94, 100:305] = pc1"
   ]
  },
  {
   "cell_type": "markdown",
   "id": "7d40d714",
   "metadata": {},
   "source": [
    "# Display 1st image after swapping"
   ]
  },
  {
   "cell_type": "code",
   "execution_count": 85,
   "id": "a47e4b5a",
   "metadata": {},
   "outputs": [],
   "source": [
    "\n",
    "\n",
    "cv2.imshow('bheem', photo1)\n",
    "cv2.waitKey()\n",
    "cv2.destroyAllWindows()"
   ]
  },
  {
   "cell_type": "markdown",
   "id": "281c66e8",
   "metadata": {},
   "source": [
    "# Display 2nd image after swapping"
   ]
  },
  {
   "cell_type": "code",
   "execution_count": 86,
   "id": "3f5af230",
   "metadata": {},
   "outputs": [],
   "source": [
    "\n",
    "cv2.imshow('chutki' , photo2)\n",
    "cv2.waitKey()\n",
    "cv2.destroyAllWindows()"
   ]
  },
  {
   "cell_type": "code",
   "execution_count": null,
   "id": "b3bb768f",
   "metadata": {},
   "outputs": [],
   "source": []
  }
 ],
 "metadata": {
  "kernelspec": {
   "display_name": "Python 3",
   "language": "python",
   "name": "python3"
  },
  "language_info": {
   "codemirror_mode": {
    "name": "ipython",
    "version": 3
   },
   "file_extension": ".py",
   "mimetype": "text/x-python",
   "name": "python",
   "nbconvert_exporter": "python",
   "pygments_lexer": "ipython3",
   "version": "3.7.4"
  }
 },
 "nbformat": 4,
 "nbformat_minor": 5
}
