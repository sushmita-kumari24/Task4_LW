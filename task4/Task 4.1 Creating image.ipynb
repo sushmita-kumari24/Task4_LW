{
 "cells": [
  {
   "cell_type": "markdown",
   "id": "fac95d70",
   "metadata": {},
   "source": [
    "# 🔅 Task 4.1\n",
    "📌 Create image by yourself Using Python Code \n"
   ]
  },
  {
   "cell_type": "code",
   "execution_count": 4,
   "id": "8608fc47",
   "metadata": {},
   "outputs": [],
   "source": [
    "  \n",
    "import cv2\n",
    "import numpy as np\n",
    "\n",
    "\n",
    "def create_blank(width, height, rgb_color=(0, 0, 0)):\n",
    "    \"\"\"Create new image(numpy array) filled with certain color in RGB\"\"\"\n",
    "    # Create black blank image\n",
    "    image = np.zeros((height, width, 3), np.uint8)\n",
    "\n",
    "    # Since OpenCV uses BGR, convert the color first\n",
    "    color = tuple(reversed(rgb_color))\n",
    "    # Fill image with color\n",
    "    image[:] = color\n",
    "\n",
    "    return image\n",
    "\n",
    "\n",
    "# Create new blank 300x300 red image\n",
    "width1, height1 = 300, 300\n",
    "\n",
    "red = (255, 0, 0)\n",
    "image = create_blank(width1, height1, rgb_color=red)\n",
    "cv2.imshow(\"Blank Image\", image)\n",
    "cv2.imwrite('red.jpg', image)\n",
    "cv2.waitKey(0)\n",
    "cv2.destroyAllWindows()"
   ]
  },
  {
   "cell_type": "code",
   "execution_count": null,
   "id": "70b63ac8",
   "metadata": {},
   "outputs": [],
   "source": []
  }
 ],
 "metadata": {
  "kernelspec": {
   "display_name": "Python 3",
   "language": "python",
   "name": "python3"
  },
  "language_info": {
   "codemirror_mode": {
    "name": "ipython",
    "version": 3
   },
   "file_extension": ".py",
   "mimetype": "text/x-python",
   "name": "python",
   "nbconvert_exporter": "python",
   "pygments_lexer": "ipython3",
   "version": "3.7.4"
  }
 },
 "nbformat": 4,
 "nbformat_minor": 5
}
