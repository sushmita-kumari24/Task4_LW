{
 "cells": [
  {
   "cell_type": "markdown",
   "id": "193e90e9",
   "metadata": {},
   "source": [
    "#  Task 4.3\n",
    "📌 Take 2 image and combine it to form single image. For example collage \n"
   ]
  },
  {
   "cell_type": "code",
   "execution_count": 264,
   "id": "6f3ec8d7",
   "metadata": {},
   "outputs": [],
   "source": [
    "import cv2\n",
    "import numpy"
   ]
  },
  {
   "cell_type": "markdown",
   "id": "9b509550",
   "metadata": {},
   "source": [
    "# Photo-1"
   ]
  },
  {
   "cell_type": "code",
   "execution_count": 265,
   "id": "c0eb1442",
   "metadata": {},
   "outputs": [],
   "source": [
    "photo_1 = cv2.imread('man.png')\n",
    "cv2.imshow('mask', photo_1 )\n",
    "cv2.waitKey()\n",
    "cv2.destroyAllWindows()"
   ]
  },
  {
   "cell_type": "code",
   "execution_count": 266,
   "id": "b1254d87",
   "metadata": {},
   "outputs": [
    {
     "data": {
      "text/plain": [
       "(768, 900, 3)"
      ]
     },
     "execution_count": 266,
     "metadata": {},
     "output_type": "execute_result"
    }
   ],
   "source": [
    "photo_1.shape"
   ]
  },
  {
   "cell_type": "markdown",
   "id": "4cd6fa21",
   "metadata": {},
   "source": [
    "# Photo-2"
   ]
  },
  {
   "cell_type": "code",
   "execution_count": 267,
   "id": "3dffb5a9",
   "metadata": {},
   "outputs": [],
   "source": [
    "photo_2 = cv2.imread('masks.png')\n",
    "cv2.imshow('mask', photo_2 )\n",
    "cv2.waitKey()\n",
    "cv2.destroyAllWindows()"
   ]
  },
  {
   "cell_type": "code",
   "execution_count": 268,
   "id": "bd2bbb46",
   "metadata": {},
   "outputs": [
    {
     "data": {
      "text/plain": [
       "(574, 546, 3)"
      ]
     },
     "execution_count": 268,
     "metadata": {},
     "output_type": "execute_result"
    }
   ],
   "source": [
    "photo_2.shape"
   ]
  },
  {
   "cell_type": "markdown",
   "id": "0cc9ba52",
   "metadata": {},
   "source": [
    "# Photo-1 crop"
   ]
  },
  {
   "cell_type": "code",
   "execution_count": 269,
   "id": "997392c5",
   "metadata": {},
   "outputs": [],
   "source": [
    "crop_photo_1 =photo_1[100:400 ,200:700]\n",
    "cv2.imshow(\"man\", crop_photo_1)\n",
    "cv2.waitKey()\n",
    "cv2.destroyAllWindows()"
   ]
  },
  {
   "cell_type": "code",
   "execution_count": 270,
   "id": "5ece093d",
   "metadata": {},
   "outputs": [
    {
     "data": {
      "text/plain": [
       "(300, 500, 3)"
      ]
     },
     "execution_count": 270,
     "metadata": {},
     "output_type": "execute_result"
    }
   ],
   "source": [
    "crop_photo_1.shape"
   ]
  },
  {
   "cell_type": "markdown",
   "id": "ff365e3d",
   "metadata": {},
   "source": [
    "# Photo-2 crop"
   ]
  },
  {
   "cell_type": "code",
   "execution_count": 271,
   "id": "e309c050",
   "metadata": {},
   "outputs": [],
   "source": [
    "crop_photo_2 =photo_2[200:470+30 , 30:530]\n",
    "cv2.imshow('man_crop',crop_photo_2 )\n",
    "cv2.waitKey()\n",
    "cv2.destroyAllWindows()"
   ]
  },
  {
   "cell_type": "code",
   "execution_count": 272,
   "id": "9d3dbb31",
   "metadata": {},
   "outputs": [
    {
     "data": {
      "text/plain": [
       "(300, 500, 3)"
      ]
     },
     "execution_count": 272,
     "metadata": {},
     "output_type": "execute_result"
    }
   ],
   "source": [
    "crop_photo_2 .shape"
   ]
  },
  {
   "cell_type": "code",
   "execution_count": 273,
   "id": "0b72c9c4",
   "metadata": {},
   "outputs": [],
   "source": [
    "\n",
    "Pic = numpy.vstack((crop_photo_1, crop_photo_2))"
   ]
  },
  {
   "cell_type": "markdown",
   "id": "b44d3fc8",
   "metadata": {},
   "source": [
    "# Collage"
   ]
  },
  {
   "cell_type": "code",
   "execution_count": 274,
   "id": "e45cdd68",
   "metadata": {},
   "outputs": [],
   "source": [
    "cv2.imshow('manwithmask', Pic )\n",
    "cv2.waitKey()\n",
    "cv2.destroyAllWindows()"
   ]
  },
  {
   "cell_type": "code",
   "execution_count": null,
   "id": "df343290",
   "metadata": {},
   "outputs": [],
   "source": []
  }
 ],
 "metadata": {
  "kernelspec": {
   "display_name": "Python 3",
   "language": "python",
   "name": "python3"
  },
  "language_info": {
   "codemirror_mode": {
    "name": "ipython",
    "version": 3
   },
   "file_extension": ".py",
   "mimetype": "text/x-python",
   "name": "python",
   "nbconvert_exporter": "python",
   "pygments_lexer": "ipython3",
   "version": "3.7.4"
  }
 },
 "nbformat": 4,
 "nbformat_minor": 5
}
